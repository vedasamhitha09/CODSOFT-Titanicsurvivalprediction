{
  "nbformat": 4,
  "nbformat_minor": 0,
  "metadata": {
    "colab": {
      "provenance": []
    },
    "kernelspec": {
      "name": "python3",
      "display_name": "Python 3"
    },
    "language_info": {
      "name": "python"
    }
  },
  "cells": [
    {
      "cell_type": "code",
      "execution_count": 6,
      "metadata": {
        "colab": {
          "base_uri": "https://localhost:8080/"
        },
        "id": "DvAIOVXhykEN",
        "outputId": "a91e1745-00c3-4b42-ffcb-78171d8b0311"
      },
      "outputs": [
        {
          "output_type": "stream",
          "name": "stdout",
          "text": [
            "Model Accuracy: 0.82\n",
            "Model Precision: 0.84\n",
            "Model Recall: 0.70\n",
            "Model F1 Score: 0.76\n"
          ]
        }
      ],
      "source": [
        "import pandas as pd\n",
        "from sklearn.model_selection import train_test_split\n",
        "from sklearn.preprocessing import StandardScaler\n",
        "from sklearn.svm import SVC\n",
        "from sklearn.metrics import accuracy_score, precision_score, recall_score, f1_score\n",
        "\n",
        "data = pd.read_csv('Titanic-Dataset.csv')\n",
        "\n",
        "# Fill missing values for 'Age','Embarked'\n",
        "data['Age'].fillna(data['Age'].median(), inplace=True)\n",
        "data['Embarked'].fillna(data['Embarked'].mode()[0], inplace=True)\n",
        "\n",
        "# Drop the 'Cabin' column due to many missing values\n",
        "data.drop(columns=['Cabin'], inplace=True)\n",
        "\n",
        "# Convert 'Sex' to numerical values: male -> 0, female -> 1\n",
        "data['Sex'] = data['Sex'].map({'male': 0, 'female': 1})\n",
        "\n",
        "# Convert 'Embarked' using one-hot encoding\n",
        "data = pd.get_dummies(data, columns=['Embarked'], drop_first=True)\n",
        "\n",
        "# Define features and target variable\n",
        "X = data.drop(columns=['Survived', 'Name', 'Ticket', 'PassengerId'])\n",
        "y = data['Survived']\n",
        "\n",
        "# Split the data into training and testing sets\n",
        "X_train, X_test, y_train, y_test = train_test_split(X, y, test_size=0.2, random_state=42)\n",
        "scaler = StandardScaler()\n",
        "X_train = scaler.fit_transform(X_train)\n",
        "X_test = scaler.transform(X_test)\n",
        "\n",
        "# Train an SVM model\n",
        "svm_model = SVC()\n",
        "svm_model.fit(X_train, y_train)\n",
        "\n",
        "# Evaluate the model\n",
        "y_pred = svm_model.predict(X_test)\n",
        "accuracy = accuracy_score(y_test, y_pred)\n",
        "precision = precision_score(y_test, y_pred)\n",
        "recall = recall_score(y_test, y_pred)\n",
        "f1 = f1_score(y_test, y_pred)\n",
        "\n",
        "print(f\"Model Accuracy: {accuracy:.2f}\")\n",
        "print(f\"Model Precision: {precision:.2f}\")\n",
        "print(f\"Model Recall: {recall:.2f}\")\n",
        "print(f\"Model F1 Score: {f1:.2f}\")\n"
      ]
    },
    {
      "cell_type": "code",
      "source": [
        "# Function to preprocess and predict survival of a new passenger\n",
        "def predict_survival(new_passenger):\n",
        "    new_passenger_df = pd.DataFrame([new_passenger])\n",
        "    new_passenger_df['Sex'] = new_passenger_df['Sex'].map({'male': 0, 'female': 1})\n",
        "    new_passenger_df = pd.get_dummies(new_passenger_df, columns=['Embarked'], drop_first=True)\n",
        "    for col in X.columns:\n",
        "        if col not in new_passenger_df.columns:\n",
        "            new_passenger_df[col] = 0\n",
        "    new_passenger_scaled = scaler.transform(new_passenger_df)\n",
        "    # Predict the survival\n",
        "    survival_prediction = svm_model.predict(new_passenger_scaled)\n",
        "    # Output the prediction\n",
        "    return survival_prediction[0]  # 0 means did not survive, 1 means survived\n",
        "new_passenger = {\n",
        "    'Pclass': int(input(\"Enter Pclass (1, 2, or 3): \")),\n",
        "    'Sex': input(\"Enter Sex (male or female): \"),\n",
        "    'Age': float(input(\"Enter Age: \")),\n",
        "    'SibSp': int(input(\"Enter number of siblings/spouses aboard: \")),\n",
        "    'Parch': int(input(\"Enter number of parents/children aboard: \")),\n",
        "    'Fare': float(input(\"Enter Fare: \")),\n",
        "    'Embarked': input(\"Enter Embarked (C, Q, or S): \")\n",
        "}\n",
        "result = predict_survival(new_passenger)\n",
        "print(\"Survived\" if result == 1 else \"Did not survive\")"
      ],
      "metadata": {
        "id": "NLMOOfgWzFMP",
        "colab": {
          "base_uri": "https://localhost:8080/"
        },
        "outputId": "01783b8f-08ce-4131-c2e4-05753ce36d7e"
      },
      "execution_count": 10,
      "outputs": [
        {
          "output_type": "stream",
          "name": "stdout",
          "text": [
            "Enter Pclass (1, 2, or 3): 1\n",
            "Enter Sex (male or female): female\n",
            "Enter Age: 35\n",
            "Enter number of siblings/spouses aboard: 1\n",
            "Enter number of parents/children aboard: 0\n",
            "Enter Fare: 53.1\n",
            "Enter Embarked (C, Q, or S): S\n",
            "Survived\n"
          ]
        }
      ]
    },
    {
      "cell_type": "code",
      "source": [],
      "metadata": {
        "id": "th4sr4PezF09"
      },
      "execution_count": null,
      "outputs": []
    }
  ]
}